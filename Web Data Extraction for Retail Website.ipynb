{
 "cells": [
  {
   "cell_type": "code",
   "execution_count": 122,
   "id": "968e5fe8",
   "metadata": {},
   "outputs": [],
   "source": [
    "import os\n",
    "import pandas as pd"
   ]
  },
  {
   "cell_type": "code",
   "execution_count": null,
   "id": "d0f42817",
   "metadata": {},
   "outputs": [],
   "source": [
    "df = pd.read_excel(\"C:\\\\Nobel\\\\Web Scrapping.xlsx\", header=None)"
   ]
  },
  {
   "cell_type": "code",
   "execution_count": 123,
   "id": "b527061d",
   "metadata": {},
   "outputs": [],
   "source": [
    "df.dropna(how='all', inplace=True)"
   ]
  },
  {
   "cell_type": "code",
   "execution_count": 124,
   "id": "bbdbae19",
   "metadata": {},
   "outputs": [],
   "source": [
    "df['1'] = df[0].shift(-1)\n",
    "df['2'] = df[0].shift(-2)\n",
    "df['3'] = df[0].shift(-3)"
   ]
  },
  {
   "cell_type": "code",
   "execution_count": 125,
   "id": "c55ee303",
   "metadata": {},
   "outputs": [],
   "source": [
    "df1 = df[~df['2'].str.contains('৳', na=False)]"
   ]
  },
  {
   "cell_type": "code",
   "execution_count": 126,
   "id": "6f159e8e",
   "metadata": {},
   "outputs": [],
   "source": [
    "df2 = df1[df1['3'].str.contains('৳', na=False)]"
   ]
  },
  {
   "cell_type": "code",
   "execution_count": 127,
   "id": "68115e72",
   "metadata": {
    "collapsed": true
   },
   "outputs": [
    {
     "data": {
      "text/html": [
       "<div>\n",
       "<style scoped>\n",
       "    .dataframe tbody tr th:only-of-type {\n",
       "        vertical-align: middle;\n",
       "    }\n",
       "\n",
       "    .dataframe tbody tr th {\n",
       "        vertical-align: top;\n",
       "    }\n",
       "\n",
       "    .dataframe thead th {\n",
       "        text-align: right;\n",
       "    }\n",
       "</style>\n",
       "<table border=\"1\" class=\"dataframe\">\n",
       "  <thead>\n",
       "    <tr style=\"text-align: right;\">\n",
       "      <th></th>\n",
       "      <th>0</th>\n",
       "      <th>1</th>\n",
       "      <th>2</th>\n",
       "      <th>3</th>\n",
       "    </tr>\n",
       "  </thead>\n",
       "  <tbody>\n",
       "    <tr>\n",
       "      <th>3</th>\n",
       "      <td>Add To Cart</td>\n",
       "      <td>5 TK OFF</td>\n",
       "      <td>ACI SALT 1KG PACK</td>\n",
       "      <td>৳ 37</td>\n",
       "    </tr>\n",
       "    <tr>\n",
       "      <th>7</th>\n",
       "      <td>Add To Cart</td>\n",
       "      <td>3 TK OFF</td>\n",
       "      <td>GREEN FIELD NAZIRSHAIL RICE PRE LOOSE</td>\n",
       "      <td>৳ 72</td>\n",
       "    </tr>\n",
       "    <tr>\n",
       "      <th>11</th>\n",
       "      <td>Add To Cart</td>\n",
       "      <td>3 TK OFF</td>\n",
       "      <td>GREEN FIELD STANDARD MINIKET RICE LOOSE</td>\n",
       "      <td>৳ 61</td>\n",
       "    </tr>\n",
       "    <tr>\n",
       "      <th>15</th>\n",
       "      <td>Add To Cart</td>\n",
       "      <td>8 TK OFF</td>\n",
       "      <td>FRESH ATTA WHITE 2KG PKT</td>\n",
       "      <td>৳ 128</td>\n",
       "    </tr>\n",
       "    <tr>\n",
       "      <th>19</th>\n",
       "      <td>Add To Cart</td>\n",
       "      <td>8 TK OFF</td>\n",
       "      <td>FRESH MAIDA 2000G PKT</td>\n",
       "      <td>৳ 148</td>\n",
       "    </tr>\n",
       "  </tbody>\n",
       "</table>\n",
       "</div>"
      ],
      "text/plain": [
       "              0         1                                        2      3\n",
       "3   Add To Cart  5 TK OFF                        ACI SALT 1KG PACK   ৳ 37\n",
       "7   Add To Cart  3 TK OFF    GREEN FIELD NAZIRSHAIL RICE PRE LOOSE   ৳ 72\n",
       "11  Add To Cart  3 TK OFF  GREEN FIELD STANDARD MINIKET RICE LOOSE   ৳ 61\n",
       "15  Add To Cart  8 TK OFF                 FRESH ATTA WHITE 2KG PKT  ৳ 128\n",
       "19  Add To Cart  8 TK OFF                    FRESH MAIDA 2000G PKT  ৳ 148"
      ]
     },
     "execution_count": 127,
     "metadata": {},
     "output_type": "execute_result"
    }
   ],
   "source": [
    "df2.head()"
   ]
  }
 ],
 "metadata": {
  "kernelspec": {
   "display_name": "Python 3 (ipykernel)",
   "language": "python",
   "name": "python3"
  },
  "language_info": {
   "codemirror_mode": {
    "name": "ipython",
    "version": 3
   },
   "file_extension": ".py",
   "mimetype": "text/x-python",
   "name": "python",
   "nbconvert_exporter": "python",
   "pygments_lexer": "ipython3",
   "version": "3.10.9"
  }
 },
 "nbformat": 4,
 "nbformat_minor": 5
}
